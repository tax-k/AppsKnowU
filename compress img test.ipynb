{
 "cells": [
  {
   "cell_type": "code",
   "execution_count": 3,
   "metadata": {},
   "outputs": [],
   "source": [
    "import os\n",
    "import sys\n",
    "from PIL import Image"
   ]
  },
  {
   "cell_type": "code",
   "execution_count": 10,
   "metadata": {},
   "outputs": [
    {
     "name": "stdout",
     "output_type": "stream",
     "text": [
      "Average Compression: 68\n",
      "Done\n"
     ]
    }
   ],
   "source": [
    "def compressMe(file, verbose=False):\n",
    "    filepath = os.path.join(os.getcwd(), file)\n",
    "    oldsize = os.stat(filepath).st_size\n",
    "    picture = Image.open(filepath)\n",
    "    dim = picture.size\n",
    "    picture.save(\"Compressed_\"+file,\"JPEG\",optimize=True,quality=85) \n",
    "\n",
    "    newsize = os.stat(os.path.join(os.getcwd(),\"Compressed_\"+file)).st_size\n",
    "    percent = (oldsize-newsize)/float(oldsize)*100\n",
    "    if (verbose):\n",
    "        print(\"File compressed from {0} to {1} or {2}%\".format(oldsize,newsize,percent))\n",
    "    return percent\n",
    "\n",
    "def main():\n",
    "    verbose = False\n",
    "    if (len(sys.argv)>1):\n",
    "        if (sys.argv[1].lower()==\"-v\"):\n",
    "            verbose = True\n",
    "\n",
    "    pwd = os.getcwd()\n",
    "\n",
    "    tot = 0\n",
    "    num = 0\n",
    "    for file in os.listdir(pwd):\n",
    "        if os.path.splitext(file)[1].lower() in ('.png', '.jpg', '.jpeg'):\n",
    "            num += 1\n",
    "            tot += compressMe(file, verbose)\n",
    "    print(\"Average Compression: %d\" % (float(tot)/num))\n",
    "    print(\"Done\")\n",
    "\n",
    "if __name__ == \"__main__\":\n",
    "    main()"
   ]
  },
  {
   "cell_type": "code",
   "execution_count": null,
   "metadata": {},
   "outputs": [],
   "source": []
  }
 ],
 "metadata": {
  "kernelspec": {
   "display_name": "Python [conda env:DL]",
   "language": "python",
   "name": "conda-env-DL-py"
  },
  "language_info": {
   "codemirror_mode": {
    "name": "ipython",
    "version": 3
   },
   "file_extension": ".py",
   "mimetype": "text/x-python",
   "name": "python",
   "nbconvert_exporter": "python",
   "pygments_lexer": "ipython3",
   "version": "3.6.7"
  }
 },
 "nbformat": 4,
 "nbformat_minor": 2
}
